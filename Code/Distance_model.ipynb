{
 "cells": [
  {
   "cell_type": "markdown",
   "metadata": {},
   "source": [
    "## Import Libraries"
   ]
  },
  {
   "cell_type": "code",
   "execution_count": 20,
   "metadata": {},
   "outputs": [],
   "source": [
    "import numpy as np\n",
    "import pandas as pd\n",
    "from sklearn.preprocessing import StandardScaler\n",
    "import tensorflow as tf \n",
    "from tensorflow import keras\n",
    "from keras import layers \n",
    "from keras import callbacks\n",
    "from sklearn.compose import make_column_transformer \n",
    "from sklearn.model_selection import ShuffleSplit, train_test_split \n",
    "from sklearn.utils import shuffle"
   ]
  },
  {
   "cell_type": "markdown",
   "metadata": {},
   "source": [
    "## Data Import"
   ]
  },
  {
   "cell_type": "code",
   "execution_count": null,
   "metadata": {},
   "outputs": [],
   "source": [
    "# For each Line, train with that corresponeding Line data\n",
    "\n",
    "LineData = pd.read_csv(\"../Data/DataLine1.csv\")\n",
    "# LineData = pd.read_csv(\"../Data/DataLine2.csv\")\n",
    "# LineData = pd.read_csv(\"../Data/DataLine3.csv\") \n",
    "\n",
    "# Shuffling\n",
    "LineData_suffled = shuffle(LineData, random_state = 2)\n",
    "LineData_suffled.head()"
   ]
  },
  {
   "cell_type": "markdown",
   "metadata": {},
   "source": [
    "## Feature Selection"
   ]
  },
  {
   "cell_type": "code",
   "execution_count": 22,
   "metadata": {},
   "outputs": [],
   "source": [
    "features_col = [\"Ia\", \"Ib\", \"Ic\", \"Va\", \"Vb\", \"Vc\"] \n",
    "target_col = [\"Distance\"]\n",
    "X = LineData_suffled[features_col] \n",
    "Y = LineData_suffled[target_col] "
   ]
  },
  {
   "cell_type": "markdown",
   "metadata": {},
   "source": [
    "## Feature Normalization"
   ]
  },
  {
   "cell_type": "code",
   "execution_count": 23,
   "metadata": {},
   "outputs": [],
   "source": [
    "scalling = StandardScaler()\n",
    "X_scalled = scalling.fit_transform(X, Y) "
   ]
  },
  {
   "cell_type": "markdown",
   "metadata": {},
   "source": [
    "## Dataset Splitting "
   ]
  },
  {
   "cell_type": "code",
   "execution_count": 24,
   "metadata": {},
   "outputs": [],
   "source": [
    "x_train, x_val, y_train, y_val  = train_test_split(X_scalled, Y, test_size=0.15, random_state=10) "
   ]
  },
  {
   "cell_type": "markdown",
   "metadata": {},
   "source": [
    "## Model Design"
   ]
  },
  {
   "cell_type": "code",
   "execution_count": 25,
   "metadata": {},
   "outputs": [],
   "source": [
    "Dis_model = keras.Sequential([\n",
    "    keras.Input(shape=(6,)),\n",
    "    layers.Dense(60, activation='relu'),\n",
    "    layers.BatchNormalization(),\n",
    "    layers.Dense(100, activation='tanh'), \n",
    "    layers.BatchNormalization(),\n",
    "    layers.Dense(80, activation='relu'),\n",
    "    layers.BatchNormalization(),  \n",
    "    layers.Dense(80, activation='relu'), \n",
    "    layers.Dense(1) \n",
    "])\n",
    "\n",
    "\n",
    "Dis_model.compile(\n",
    "    optimizer = 'adam',\n",
    "    loss = 'mae',\n",
    ")"
   ]
  },
  {
   "cell_type": "markdown",
   "metadata": {},
   "source": [
    "## Training"
   ]
  },
  {
   "cell_type": "code",
   "execution_count": null,
   "metadata": {},
   "outputs": [],
   "source": [
    "history = Dis_model.fit(\n",
    "    x_train, y_train,\n",
    "    validation_data = (x_val, y_val),\n",
    "    batch_size = 120,  \n",
    "    epochs = 1000,\n",
    ")"
   ]
  },
  {
   "cell_type": "markdown",
   "metadata": {},
   "source": [
    "## Training History"
   ]
  },
  {
   "cell_type": "code",
   "execution_count": null,
   "metadata": {},
   "outputs": [],
   "source": [
    "history_df = pd.DataFrame(history.history)\n",
    "history_df.loc[:, ['loss', 'val_loss']].plot()\n",
    "print(\"Minimum Train Loss: {}\".format(history_df['loss'].min()))\n",
    "print(\"Minimum Validation Loss: {}\".format(history_df['val_loss'].min()))"
   ]
  },
  {
   "cell_type": "markdown",
   "metadata": {},
   "source": [
    "## Prediction on Validation Data"
   ]
  },
  {
   "cell_type": "code",
   "execution_count": null,
   "metadata": {},
   "outputs": [],
   "source": [
    "\n",
    "y_pred = Dis_model.predict(x_val)\n",
    "y_val_series = y_val.squeeze()\n",
    "y_pred_series = y_pred.squeeze()\n",
    "comparison = pd.DataFrame({\n",
    "    \"True\": np.array(y_val_series), \n",
    "    \"Predicted\": np.array(y_pred_series)  \n",
    "})"
   ]
  },
  {
   "cell_type": "code",
   "execution_count": null,
   "metadata": {},
   "outputs": [],
   "source": [
    "# Showing the True values and Predicted values on Validation data\n",
    "comparison.head()"
   ]
  }
 ],
 "metadata": {
  "kernelspec": {
   "display_name": "icece_22",
   "language": "python",
   "name": "python3"
  },
  "language_info": {
   "codemirror_mode": {
    "name": "ipython",
    "version": 3
   },
   "file_extension": ".py",
   "mimetype": "text/x-python",
   "name": "python",
   "nbconvert_exporter": "python",
   "pygments_lexer": "ipython3",
   "version": "3.11.9"
  },
  "orig_nbformat": 4
 },
 "nbformat": 4,
 "nbformat_minor": 2
}
